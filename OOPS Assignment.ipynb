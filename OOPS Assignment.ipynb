{
 "cells": [
  {
   "cell_type": "markdown",
   "id": "68193575-4c46-4d83-a565-ffaf13af7e91",
   "metadata": {},
   "source": [
    "Que 1:  What are the five key concepts of Object-Oriented Programming (OOP)?"
   ]
  },
  {
   "cell_type": "markdown",
   "id": "a70af8a8-ebe9-4a90-8276-a388264eae3c",
   "metadata": {},
   "source": [
    "Ans 1:  The five key concepts of Object-Oriented Programming (OOP) are:\n",
    "\n",
    "Encapsulation:\n",
    "\n",
    "Definition: Encapsulation is the bundling of data (attributes) and methods (functions) that operate on the data into a single unit or class. It restricts direct access to some of an object's components, which is a means of preventing accidental interference and misuse of the data.\n",
    "\n",
    "Purpose: Encapsulation helps to hide the internal state of the object and only expose a controlled interface. This ensures that the object's data cannot be altered or accessed in unexpected ways.\n",
    "\n",
    "Example: Using private variables and providing public getter and setter methods to control access to those variables.\n",
    "\n",
    "Abstraction:\n",
    "\n",
    "Definition: Abstraction is the concept of hiding the complex implementation details and showing only the essential features of an object. It allows you to work with high-level concepts while ignoring the lower-level details.\n",
    "\n",
    "Purpose: Abstraction reduces complexity and allows the programmer to focus on interactions at a higher level, rather than on implementation details.\n",
    "\n",
    "Example: A car object might expose methods like drive() or stop() without needing to expose or understand the details of how the engine works.\n",
    "\n",
    "Inheritance:\n",
    "\n",
    "Definition: Inheritance is a mechanism where a new class, called a child or derived class, is created from an existing class, called a parent or base class. The child class inherits attributes and methods from the parent class and can also add new attributes and methods or override existing ones.\n",
    "\n",
    "Purpose: Inheritance promotes code reuse and establishes a natural hierarchy between classes.\n",
    "\n",
    "Example: A Dog class might inherit from an Animal class, reusing common attributes like name and age and methods like eat() and sleep(), while adding or modifying behavior specific to dogs.\n",
    "\n",
    "Polymorphism:\n",
    "\n",
    "Definition: Polymorphism allows objects of different classes to be treated as objects of a common superclass. It enables a single interface to represent different underlying forms (data types). In simpler terms, polymorphism allows one interface to be used for a general class of actions.\n",
    "\n",
    "Purpose: Polymorphism promotes flexibility and the ability to interchange objects in code, making it easier to extend and maintain.\n",
    "\n",
    "Example: A function that takes a Shape object can work with Circle, Square, or Triangle objects because they all implement the Shape interface.\n",
    "\n",
    "Composition:\n",
    "\n",
    "Definition: Composition is a design principle in which a class is composed of one or more objects from other classes, rather than inheriting from a base class. It represents a \"has-a\" relationship, where one class contains an instance of another class as a field.\n",
    "\n",
    "Purpose: Composition allows for more flexible and modular designs by building complex objects from simpler ones, rather than relying on a rigid inheritance hierarchy.\n",
    "\n",
    "Example: A Car class might be composed of Engine, Wheel, and Transmission objects, representing the fact that a car \"has an\" engine, wheels, and a transmission.\n",
    "\n",
    "Summary:\n",
    "\n",
    "Encapsulation: Hides data and implementation, exposing only the necessary parts.\n",
    "\n",
    "Abstraction: Simplifies complex systems by showing only the relevant features.\n",
    "\n",
    "Inheritance: Reuses and extends existing code by creating a hierarchy of classes.\n",
    "\n",
    "Polymorphism: Allows objects of different types to be used interchangeably.\n",
    "\n",
    "Composition: Builds complex objects by combining simpler ones, favoring flexibility over inheritance.\n",
    "\n",
    "These concepts are foundational to OOP and are used to create modular, maintainable, and reusable code."
   ]
  },
  {
   "cell_type": "markdown",
   "id": "10ec2aba-b20b-4ea8-9fd1-43ccd8ec8e9f",
   "metadata": {},
   "source": [
    "Que 2: Write a Python class for a `Car` with attributes for `make`, `model`, and `year`. Include a method to display the car's information."
   ]
  },
  {
   "cell_type": "markdown",
   "id": "9d58fe26-04a7-46fe-9e50-8a79495f2166",
   "metadata": {},
   "source": [
    "Ans 2: An example of a Python class for a Car with the attributes make, model, and year, and a method to display the car’s information:"
   ]
  },
  {
   "cell_type": "code",
   "execution_count": 87,
   "id": "97f128f5-fd57-4e66-aaf7-cd0d8cb6343e",
   "metadata": {},
   "outputs": [
    {
     "name": "stdout",
     "output_type": "stream",
     "text": [
      "Car Information: 2022 Hyundai Verna\n"
     ]
    }
   ],
   "source": [
    "class Car:\n",
    "    def __init__(self, make, model, year):\n",
    "        self.make = make\n",
    "        self.model = model\n",
    "        self.year = year\n",
    "\n",
    "    def display_info(self):\n",
    "        print(f\"Car Information: {self.year} {self.make} {self.model}\")\n",
    "\n",
    "# Example usage:\n",
    "my_car = Car(\"Hyundai\", \"Verna\", 2022)\n",
    "my_car.display_info()"
   ]
  },
  {
   "cell_type": "markdown",
   "id": "1285c824-9aa6-4d06-8776-e7adc25dea5b",
   "metadata": {},
   "source": [
    "In this code:\n",
    "- The __init__ method is used to initialize the attributes make, model, and year when a new instance of the Car class is created.\n",
    "- The display_info method prints the car’s information in a formatted string.\n",
    "\n",
    "When you create an instance of the Car class (e.g., my_car = Car(\"Hyundai\", \"Verna\", 2022)) and call my_car.display_info(), it will output the car's information."
   ]
  },
  {
   "cell_type": "markdown",
   "id": "47bc2f13-4147-456f-9717-f78634b35517",
   "metadata": {},
   "source": [
    "Que 3. Explain the difference between instance methods and class methods. Provide an example of each."
   ]
  },
  {
   "cell_type": "markdown",
   "id": "8a1e09ae-b5c1-4358-b0fe-16cd77144358",
   "metadata": {},
   "source": [
    "Ans 3: In Python, *instance methods* and *class methods* serve different purposes, though both are used within classes. Here's a breakdown of the differences:"
   ]
  },
  {
   "cell_type": "markdown",
   "id": "86fd6ee9-5d2e-4bab-bfee-8984ca0d5c57",
   "metadata": {},
   "source": [
    "1. Instance Methods:\n",
    "\n",
    "Definition: \n",
    "\n",
    "These methods are tied to an instance of the class and operate on the data (attributes) of a specific object (instance).\n",
    "\n",
    "Access: \n",
    "They require an instance of the class to be called.\n",
    "\n",
    "Self Parameter:\n",
    "\n",
    "The first parameter is always self, which represents the instance calling the method. Through self, the method can access and modify the instance's attributes.\n",
    "\n",
    "Use Case: \n",
    "\n",
    "Instance methods are used when you need to work with or modify an instance’s state.\n"
   ]
  },
  {
   "cell_type": "markdown",
   "id": "15ac4947-99b7-45d9-8c7d-272c3a5139d2",
   "metadata": {},
   "source": [
    " Example of an Instance Method:"
   ]
  },
  {
   "cell_type": "code",
   "execution_count": 96,
   "id": "55587b11-f87f-4efd-9780-6dd1170354c8",
   "metadata": {},
   "outputs": [
    {
     "name": "stdout",
     "output_type": "stream",
     "text": [
      "Car: Hyundai Creta\n"
     ]
    }
   ],
   "source": [
    "class Car:\n",
    "       def __init__(self, brand, model):\n",
    "           self.brand = brand\n",
    "           self.model = model\n",
    "\n",
    "       def get_info(self):\n",
    "           return f\"Car: {self.brand} {self.model}\"\n",
    "\n",
    "car1 = Car(\"Hyundai\", \"Creta\") # Creating an instance of the class\n",
    "print(car1.get_info())"
   ]
  },
  {
   "cell_type": "markdown",
   "id": "dfbfcb75-f4b6-4e6e-89e5-189487d368bd",
   "metadata": {},
   "source": [
    "2. Class Methods:\n",
    "\n",
    "Definition:\n",
    "\n",
    "These methods are tied to the class itself rather than any instance. They can access or modify class-level data (shared across all instances).\n",
    "\n",
    "Access:\n",
    "\n",
    "They do not require an instance of the class to be called but can be called by both the class itself and its instances.\n",
    "\n",
    "Cls Parameter: \n",
    "\n",
    "The first parameter is cls, which represents the class. Through cls, the method can access or modify class variables.\n",
    "\n",
    "Use Case:\n",
    "\n",
    "Class methods are useful when you want to perform actions that are related to the class but don't need instance-specific data.\n"
   ]
  },
  {
   "cell_type": "markdown",
   "id": "909a696e-d3bb-4d3e-ae64-287b0c456e71",
   "metadata": {},
   "source": [
    " Example of a Class Method:"
   ]
  },
  {
   "cell_type": "code",
   "execution_count": 100,
   "id": "e1f92acc-ef0a-4b1c-b25e-04718637a48b",
   "metadata": {},
   "outputs": [
    {
     "name": "stdout",
     "output_type": "stream",
     "text": [
      "Total Cars: 2\n"
     ]
    }
   ],
   "source": [
    "class Car:\n",
    "       car_count = 0  # Class variable\n",
    "\n",
    "       def __init__(self, brand, model):\n",
    "           self.brand = brand\n",
    "           self.model = model\n",
    "           Car.car_count += 1  # Incrementing class variable\n",
    "\n",
    "       @classmethod\n",
    "       def get_car_count(cls):\n",
    "           return f\"Total Cars: {cls.car_count}\"\n",
    "\n",
    "# Creating instances of the class\n",
    "car1 = Car(\"Hyundai\", \"Creta\")\n",
    "car2 = Car(\"MG\", \"Hector\")\n",
    "\n",
    "# Accessing the class method\n",
    "print(Car.get_car_count())"
   ]
  },
  {
   "cell_type": "markdown",
   "id": "b6eb3940-3442-493b-a1f3-69e5a8b1df3a",
   "metadata": {},
   "source": [
    "Summary:\n",
    "- Instance methods operate on specific instances of a class, using self to access instance data.\n",
    "- Class methods operate on the class itself and use cls to access class-level data."
   ]
  },
  {
   "cell_type": "markdown",
   "id": "7c33a046-8dc6-4e6b-b27c-dad87f26a222",
   "metadata": {},
   "source": [
    "Que 4. How does Python implement method overloading? Give an example."
   ]
  },
  {
   "cell_type": "markdown",
   "id": "03a708aa-469f-4daf-948c-5c7ae9be713c",
   "metadata": {},
   "source": [
    "Ans 4: In Python, *method overloading* (the ability to define multiple methods with the same name but different parameter signatures) is not supported in the same way as in languages like Java or C++. However, you can achieve similar behavior using default parameters or variable-length arguments (*args and **kwargs).\n",
    "\n",
    "Python does not allow multiple methods with the same name in the same class. If you try to define multiple methods with the same name, only the last one will be used, as it will overwrite the previous ones."
   ]
  },
  {
   "cell_type": "markdown",
   "id": "fd62f122-8564-47ae-bfe7-e8c6015d6276",
   "metadata": {},
   "source": [
    "1. Use Default Arguments:\n",
    "Default arguments allow you to define a single method that can be called with different numbers of parameters."
   ]
  },
  {
   "cell_type": "markdown",
   "id": "33d6de53-4b0c-4c68-b782-3e29cc966aa2",
   "metadata": {},
   "source": [
    " Example:"
   ]
  },
  {
   "cell_type": "code",
   "execution_count": 109,
   "id": "606739ae-e494-4181-804e-1e5ace7026bb",
   "metadata": {},
   "outputs": [
    {
     "name": "stdout",
     "output_type": "stream",
     "text": [
      "20\n"
     ]
    }
   ],
   "source": [
    "class Calculator:\n",
    "       def add(self, a, b=0, c=0):\n",
    "           return a + b + c\n",
    "\n",
    "calc = Calculator()\n",
    "\n",
    "print(calc.add(20))"
   ]
  },
  {
   "cell_type": "code",
   "execution_count": 111,
   "id": "51909c40-1654-4e62-8336-eab671f1d609",
   "metadata": {},
   "outputs": [
    {
     "name": "stdout",
     "output_type": "stream",
     "text": [
      "26\n"
     ]
    }
   ],
   "source": [
    "print(calc.add(20, 6))"
   ]
  },
  {
   "cell_type": "code",
   "execution_count": 113,
   "id": "99e150a5-8e15-4b9f-b2d6-ca95c4fa6f09",
   "metadata": {},
   "outputs": [
    {
     "name": "stdout",
     "output_type": "stream",
     "text": [
      "30\n"
     ]
    }
   ],
   "source": [
    "print(calc.add(20, 6, 4)) "
   ]
  },
  {
   "cell_type": "markdown",
   "id": "2a63da84-0d25-4a26-b2e4-cd12e9d87de9",
   "metadata": {},
   "source": [
    "Here, the method add can handle one, two, or three arguments by providing default values for the additional parameters."
   ]
  },
  {
   "cell_type": "markdown",
   "id": "a63801eb-6c30-44c9-8f98-f36b46220f14",
   "metadata": {},
   "source": [
    "2. **Use Variable-length Arguments (*args and *kwargs)**:\n",
    "You can also use *args to pass a variable number of positional arguments or **kwargs for keyword arguments."
   ]
  },
  {
   "cell_type": "markdown",
   "id": "183e381a-ce93-42e3-8f81-8d14fe43683d",
   "metadata": {},
   "source": [
    "3. Using @singledispatch for Function Overloading:\n",
    "While Python doesn't directly support method overloading, the functools.singledispatch decorator can be used for function overloading based on argument types. However, this works only for functions, not methods."
   ]
  },
  {
   "cell_type": "markdown",
   "id": "2e32db64-0ef0-43a1-9834-77d5395f31a1",
   "metadata": {},
   "source": [
    "Summary:\n",
    "- Python doesn't support traditional method overloading like some other languages.\n",
    "- You can use default parameters or variable-length arguments (*args and **kwargs) to simulate overloading.\n",
    "- @singledispatch allows function overloading based on argument type but is limited to functions, not methods."
   ]
  },
  {
   "cell_type": "markdown",
   "id": "8b1631e3-3153-490b-b874-daa8b606cba2",
   "metadata": {},
   "source": [
    "Que 5. What are the three types of access modifiers in Python? How are they denoted?"
   ]
  },
  {
   "cell_type": "markdown",
   "id": "1a79a787-334c-4daa-8616-edb643ad2f1c",
   "metadata": {},
   "source": [
    "Ans 5:In Python, access modifiers control the visibility of class members (attributes and methods) from outside the class. Unlike languages such as Java or C++, Python doesn't have strict access control. Instead, it uses naming conventions to indicate different levels of access. Python's philosophy is based on the idea of \"we are all consenting adults here,\" meaning it relies more on conventions than enforcement.\n",
    "\n",
    "1. Public Members:\n",
    "\n",
    "Definition:\n",
    "\n",
    "Public members are accessible from anywhere (both inside and outside the class).\n",
    "\n",
    "Denotation: \n",
    "\n",
    "Public members are denoted by names that do not start with an underscore.\n",
    "\n",
    "Usage: \n",
    "\n",
    "You can access these members freely from any part of the program.\n",
    "\n",
    "Example:"
   ]
  },
  {
   "cell_type": "code",
   "execution_count": 138,
   "id": "2350d2be-be5e-47fc-905a-a9948b27edb4",
   "metadata": {},
   "outputs": [
    {
     "name": "stdout",
     "output_type": "stream",
     "text": [
      "I am public\n"
     ]
    }
   ],
   "source": [
    "class MyClass:\n",
    "       def __init__(self):\n",
    "           self.public_var = \"I am public\"\n",
    "    \n",
    "\n",
    "obj = MyClass()\n",
    "print(obj.public_var)          "
   ]
  },
  {
   "cell_type": "code",
   "execution_count": 140,
   "id": "6e1f3e91-c78b-4eba-855f-e3ed7acdb5e3",
   "metadata": {},
   "outputs": [],
   "source": [
    "def public_method(self):\n",
    "           return \"This is a public method\""
   ]
  },
  {
   "cell_type": "markdown",
   "id": "1858a461-adbb-43a7-a437-13fb59e03665",
   "metadata": {},
   "source": [
    "2. *Protected Members*\n",
    "\n",
    "Definition: \n",
    "\n",
    "Protected members are intended to be accessed only within the class and its subclasses. However, in Python, they can still be accessed from outside the class—this is merely a convention, not enforcement.\n",
    "\n",
    "Denotation:\n",
    "\n",
    "Protected members are denoted by a single leading underscore (_).\n",
    "\n",
    "Usage:\n",
    "\n",
    "By convention, protected members should not be accessed directly outside the class or its subclasses, although Python doesn’t strictly prevent it."
   ]
  },
  {
   "cell_type": "markdown",
   "id": "81115959-561d-4339-b23b-823dcb33498a",
   "metadata": {},
   "source": [
    "Example:"
   ]
  },
  {
   "cell_type": "code",
   "execution_count": 160,
   "id": "bd0ee135-820a-4a29-8828-f486f9159ffc",
   "metadata": {},
   "outputs": [
    {
     "name": "stdout",
     "output_type": "stream",
     "text": [
      "I am happy\n"
     ]
    }
   ],
   "source": [
    "class MyClass:\n",
    "       def __init__(self):\n",
    "           self._protected_var = \"I am happy\"   \n",
    "\n",
    "obj = MyClass()\n",
    "print(obj._protected_var)        "
   ]
  },
  {
   "cell_type": "code",
   "execution_count": 162,
   "id": "2dd39617-3c28-4c81-8731-a659811a1f91",
   "metadata": {},
   "outputs": [
    {
     "name": "stdout",
     "output_type": "stream",
     "text": [
      "This is a protected method\n"
     ]
    }
   ],
   "source": [
    "class MyClass:\n",
    "       def _protected_method(self):\n",
    "           return \"This is a protected method\"\n",
    "obj = MyClass()\n",
    "print(obj._protected_method())"
   ]
  },
  {
   "cell_type": "markdown",
   "id": "3fe37418-b8f4-4daa-bcf0-e9e04d2ead5e",
   "metadata": {},
   "source": [
    "3. Private Members:\n",
    "\n",
    "Definition:\n",
    "\n",
    "Private members are meant to be accessed only within the class that defines them. Python uses name mangling to make private members less accessible \n",
    "from outside the class.\n",
    "\n",
    "Denotation:\n",
    "\n",
    "Private members are denoted by a double leading underscore (__).\n",
    "\n",
    "Usage:\n",
    "\n",
    "Private members are not directly accessible outside the class. Python performs name mangling by prefixing the class name to the private member’s name, making it harder (but not impossible) to access them from outside the class."
   ]
  },
  {
   "cell_type": "markdown",
   "id": "cbfe2a0a-36e9-4f2c-9b3b-5d7d77765e23",
   "metadata": {},
   "source": [
    "Example:"
   ]
  },
  {
   "cell_type": "code",
   "execution_count": 168,
   "id": "e64f5db5-ffcd-4fa3-8cc0-94d56104889c",
   "metadata": {},
   "outputs": [
    {
     "name": "stdout",
     "output_type": "stream",
     "text": [
      "I am private\n",
      "This is a private method\n"
     ]
    }
   ],
   "source": [
    "class MyClass:\n",
    "       def __init__(self):\n",
    "           self.__private_var = \"I am private\"\n",
    "       \n",
    "       def __private_method(self):\n",
    "           return \"This is a private method\"\n",
    "\n",
    "obj = MyClass()\n",
    "\n",
    "# These will raise an AttributeError if accessed directly\n",
    "# print(obj.__private_var)  # AttributeError: 'MyClass' object has no attribute '__private_var'\n",
    "# print(obj.__private_method())  # AttributeError: 'MyClass' object has no attribute '__private_method'\n",
    "\n",
    "# But can be accessed through name mangling\n",
    "print(obj._MyClass__private_var)        \n",
    "print(obj._MyClass__private_method())    "
   ]
  },
  {
   "cell_type": "markdown",
   "id": "5316dce9-7b8b-4223-bb1b-93a787c62afd",
   "metadata": {},
   "source": [
    "Summary:\n",
    "\n",
    "Public members:\n",
    "\n",
    "No leading underscore, accessible from anywhere.\n",
    "\n",
    "Protected members:\n",
    "\n",
    "A single leading underscore (_), intended for internal use within the class and subclasses.\n",
    "##### Private members:\n",
    "A double leading underscore (__), intended to be fully private, but can still be accessed through name mangling (_ClassName__member)."
   ]
  },
  {
   "cell_type": "markdown",
   "id": "7a945a75-a13e-492c-8a3c-e6bdf727c697",
   "metadata": {},
   "source": [
    "Que 6. Describe the five types of inheritance in Python. Provide a simple example of multiple inheritance."
   ]
  },
  {
   "cell_type": "markdown",
   "id": "1dac6afa-d736-4852-856e-af5354619756",
   "metadata": {},
   "source": [
    "Ans 6: In Python, inheritance allows one class (child class or subclass) to inherit attributes and methods from another class (parent class or superclass). There are five types of inheritance in Python, each defining a different way in which classes can be related to one another."
   ]
  },
  {
   "cell_type": "markdown",
   "id": "98e6bf10-2216-4f27-84d3-41769db9c43f",
   "metadata": {},
   "source": [
    " 1. Single Inheritance:\n",
    "A subclass inherits from only one parent class."
   ]
  },
  {
   "cell_type": "code",
   "execution_count": 174,
   "id": "b892151e-9323-4ed0-8842-95f5f2ebc70e",
   "metadata": {},
   "outputs": [
    {
     "name": "stdout",
     "output_type": "stream",
     "text": [
      "Some sound\n",
      "Woof!\n"
     ]
    }
   ],
   "source": [
    "class Animal:\n",
    "         def sound(self):\n",
    "             return \"Some sound\"\n",
    "\n",
    "class Dog(Animal):\n",
    "         def bark(self):\n",
    "             return \"Woof!\"\n",
    "\n",
    "dog = Dog()\n",
    "print(dog.sound())  \n",
    "print(dog.bark())  "
   ]
  },
  {
   "cell_type": "markdown",
   "id": "5a9758ea-a60c-4eb4-9fbf-69ea55126dc8",
   "metadata": {},
   "source": [
    "2. Multiple Inheritance\n",
    "\n",
    "A subclass can inherit from more than one parent class.\n",
    "\n",
    "Example:\n"
   ]
  },
  {
   "cell_type": "code",
   "execution_count": 177,
   "id": "935d9b3f-98e2-4874-8d8c-10e78f8ba0ca",
   "metadata": {},
   "outputs": [
    {
     "name": "stdout",
     "output_type": "stream",
     "text": [
      "Driving\n"
     ]
    }
   ],
   "source": [
    "class Father:\n",
    "         def skills(self):\n",
    "             return \"Driving\"\n",
    "\n",
    "class Mother:\n",
    "         def skills(self):\n",
    "             return \"Cooking\"\n",
    "\n",
    "class Child(Father, Mother):\n",
    "         pass\n",
    "\n",
    "child = Child()\n",
    "print(child.skills())  # Output: Driving (method resolution order chooses Father first)\n",
    "     "
   ]
  },
  {
   "cell_type": "markdown",
   "id": "f317d6df-94d3-45e7-bf52-26e70a7c84e8",
   "metadata": {},
   "source": [
    "In this example, the child class inherits from both Father and Mother."
   ]
  },
  {
   "cell_type": "markdown",
   "id": "7ec162ed-ce97-4572-8bdb-dd67467aadb9",
   "metadata": {},
   "source": [
    "3. Multilevel Inheritance:\n",
    "\n",
    "A subclass inherits from a parent class, and another class inherits from that subclass, forming a chain"
   ]
  },
  {
   "cell_type": "markdown",
   "id": "a81c60d3-9aa6-45a1-ae84-31d8283e5f16",
   "metadata": {},
   "source": [
    "Example:"
   ]
  },
  {
   "cell_type": "code",
   "execution_count": 181,
   "id": "5d75f387-0887-4dbc-87c3-00dba607dffe",
   "metadata": {},
   "outputs": [
    {
     "name": "stdout",
     "output_type": "stream",
     "text": [
      "Some sound\n",
      "Woof!\n",
      "Bulldog\n"
     ]
    }
   ],
   "source": [
    "class Animal:\n",
    "         def sound(self):\n",
    "             return \"Some sound\"\n",
    "\n",
    "class Dog(Animal):\n",
    "         def bark(self):\n",
    "             return \"Woof!\"\n",
    "\n",
    "class Bulldog(Dog):\n",
    "         def breed(self):\n",
    "             return \"Bulldog\"\n",
    "\n",
    "bulldog = Bulldog()\n",
    "print(bulldog.sound())  # Output: Some sound\n",
    "print(bulldog.bark())   # Output: Woof!\n",
    "print(bulldog.breed())  # Output: Bulldog"
   ]
  },
  {
   "cell_type": "markdown",
   "id": "41b32af7-7276-487b-9abe-344358792ff8",
   "metadata": {},
   "source": [
    "4. Hierarchical Inheritance:\n",
    "\n",
    "Multiple subclasses inherit from the same parent class.\n",
    "\n",
    "Example:"
   ]
  },
  {
   "cell_type": "code",
   "execution_count": 186,
   "id": "4e0aefa3-0d23-4c2c-a0ce-eadcb634f6ba",
   "metadata": {},
   "outputs": [
    {
     "name": "stdout",
     "output_type": "stream",
     "text": [
      "Some sound\n",
      "Some sound\n"
     ]
    }
   ],
   "source": [
    "class Animal:\n",
    "         def sound(self):\n",
    "             return \"Some sound\"\n",
    "\n",
    "class Dog(Animal):\n",
    "         def bark(self):\n",
    "             return \"Woof!\"\n",
    "\n",
    "class Cat(Animal):\n",
    "         def meow(self):\n",
    "             return \"Meow!\"\n",
    "\n",
    "dog = Dog()\n",
    "cat = Cat()\n",
    "print(dog.sound())  \n",
    "print(cat.sound()) "
   ]
  },
  {
   "cell_type": "markdown",
   "id": "8daec7cf-dba5-4f0b-8162-1af0a0a250d6",
   "metadata": {},
   "source": [
    "5. Hybrid Inheritance\n",
    "A combination of two or more types of inheritance (e.g., a mix of multiple and hierarchical inheritance).\n"
   ]
  },
  {
   "cell_type": "markdown",
   "id": "27d1aff6-035f-4966-9b7b-3ef2bbc8198d",
   "metadata": {},
   "source": [
    "Example:"
   ]
  },
  {
   "cell_type": "code",
   "execution_count": 189,
   "id": "4008e134-cf7c-41b9-b16d-429891c4cbb2",
   "metadata": {},
   "outputs": [],
   "source": [
    "class Animal:\n",
    "    def sound(self):\n",
    "             return \"Some sound\"\n",
    "\n",
    "class Dog(Animal):\n",
    "    def bark(self):\n",
    "             return \"Woof!\"\n",
    "\n",
    "class Cat(Animal):\n",
    "    def meow(self):\n",
    "             return \"Meow!\"\n",
    "\n",
    "class Pet(Dog, Cat):\n",
    "    def activity(self):\n",
    "             return \"Plays with humans\""
   ]
  },
  {
   "cell_type": "markdown",
   "id": "7af6ad0b-8138-4aab-85c0-8f433de67b78",
   "metadata": {},
   "source": [
    " Example of Multiple Inheritance:"
   ]
  },
  {
   "cell_type": "code",
   "execution_count": 197,
   "id": "02fb52a1-7683-4cfc-889b-22fd36e7a8c2",
   "metadata": {},
   "outputs": [
    {
     "name": "stdout",
     "output_type": "stream",
     "text": [
      "Engineer\n",
      "Painting\n",
      "Plays video games\n"
     ]
    }
   ],
   "source": [
    "class Father:\n",
    "    def profession(self):\n",
    "        return \"Engineer\"\n",
    "\n",
    "class Mother:\n",
    "    def hobby(self):\n",
    "        return \"Painting\"\n",
    "\n",
    "class Child(Father, Mother):\n",
    "    def activity(self):\n",
    "        return \"Plays video games\"\n",
    "\n",
    "# Create an instance of Child class\n",
    "child = Child()\n",
    "# Access methods from both parent classes\n",
    "print(child.profession())  \n",
    "print(child.hobby())       \n",
    "print(child.activity())"
   ]
  },
  {
   "cell_type": "markdown",
   "id": "9068a0c5-7247-4e0d-9cac-b2ab171d9539",
   "metadata": {},
   "source": [
    "Summary:\n",
    "##### 1. Single Inheritance: \n",
    "A class inherits from one parent class.\n",
    "##### 2. Multiple Inheritance: \n",
    "A class inherits from more than one parent class.\n",
    "##### 3. Multilevel Inheritance:\n",
    "A class inherits from a parent class, which is itself inherited from another class.\n",
    "##### 4. Hierarchical Inheritance:\n",
    "Multiple classes inherit from the same parent class.\n",
    "##### 5. Hybrid Inheritance:\n",
    "A combination of two or more types of inheritance."
   ]
  },
  {
   "cell_type": "markdown",
   "id": "c02489a0-04c9-4b80-a053-a5fffadd63c1",
   "metadata": {},
   "source": [
    "### Que 7. What is the Method Resolution Order (MRO) in Python? How can you retrieve it programmatically?"
   ]
  },
  {
   "cell_type": "markdown",
   "id": "78d5347a-fe27-46ef-a114-8a0745efb9d8",
   "metadata": {},
   "source": [
    "Ans 7:Method Resolution Order (MRO) in Python:\n",
    "\n",
    "The Method Resolution Order (MRO) in Python determines the order in which classes are searched when invoking a method or accessing an attribute in the presence of inheritance, especially in multiple inheritance scenarios. When you call a method on an instance, Python follows the MRO to find where that method is defined.\n",
    "\n",
    "Python uses the *C3 linearization* algorithm (also called C3 superclass linearization) to create the MRO in a way that maintains a consistent method search path. This ensures that classes are searched in a predictable order, and ambiguities are resolved in multiple inheritance situations.\n",
    "\n",
    "#### Key Points:\n",
    "- The MRO determines the sequence in which base classes are checked when a method is called.\n",
    "- In single inheritance, the MRO is straightforward: the class itself and its direct parent classes are checked in sequence.\n",
    "- In multiple inheritance, Python uses the C3 linearization algorithm to ensure a consistent and unambiguous resolution order.\n",
    "\n",
    "#### Retrieving MRO Programmatically:\n",
    "\n",
    "There are two primary ways to retrieve the MRO of a class:"
   ]
  },
  {
   "cell_type": "markdown",
   "id": "2e7208b3-ecf5-4398-862b-a4d319d84e4d",
   "metadata": {},
   "source": [
    "#### 1. Using the __mro__ attribute:\n",
    "Every class in Python has an attribute called __mro__, which stores the MRO as a tuple of classes."
   ]
  },
  {
   "cell_type": "markdown",
   "id": "a015971c-4a38-4ad1-a809-cb9e4bfcf09e",
   "metadata": {},
   "source": [
    "Example:"
   ]
  },
  {
   "cell_type": "code",
   "execution_count": 208,
   "id": "b4e1541b-bbfe-444f-b285-a912e011131b",
   "metadata": {},
   "outputs": [
    {
     "name": "stdout",
     "output_type": "stream",
     "text": [
      "(<class '__main__.C'>, <class '__main__.B'>, <class '__main__.A'>, <class 'object'>)\n"
     ]
    }
   ],
   "source": [
    "class A:\n",
    "         pass\n",
    "\n",
    "class B(A):\n",
    "         pass\n",
    "\n",
    "class C(B):\n",
    "         pass\n",
    "\n",
    "print(C.__mro__)"
   ]
  },
  {
   "cell_type": "markdown",
   "id": "4bb1489f-5d4e-434d-921a-8177ccdd4e25",
   "metadata": {},
   "source": [
    "#### 2. Using the mro() method:\n",
    "You can also call the mro() method on a class to retrieve the MRO as a list."
   ]
  },
  {
   "cell_type": "code",
   "execution_count": 213,
   "id": "5e37b43e-da59-478b-a50e-8720a28cbc0f",
   "metadata": {},
   "outputs": [
    {
     "name": "stdout",
     "output_type": "stream",
     "text": [
      "[<class '__main__.C'>, <class '__main__.B'>, <class '__main__.A'>, <class 'object'>]\n"
     ]
    }
   ],
   "source": [
    "class A:\n",
    "         pass\n",
    "\n",
    "class B(A):\n",
    "         pass\n",
    "\n",
    "class C(B):\n",
    "         pass\n",
    "\n",
    "print(C.mro())"
   ]
  },
  {
   "cell_type": "markdown",
   "id": "b8cc04b0-725f-4e8d-b595-dd83e1fb3d6f",
   "metadata": {},
   "source": [
    "Example with Multiple Inheritance"
   ]
  },
  {
   "cell_type": "code",
   "execution_count": 216,
   "id": "6e63c810-123a-4eb7-a8b8-93303360fd78",
   "metadata": {},
   "outputs": [
    {
     "name": "stdout",
     "output_type": "stream",
     "text": [
      "I am B\n",
      "[<class '__main__.D'>, <class '__main__.B'>, <class '__main__.C'>, <class '__main__.A'>, <class 'object'>]\n"
     ]
    }
   ],
   "source": [
    "class A:\n",
    "    def who_am_i(self):\n",
    "        return \"I am A\"\n",
    "\n",
    "class B(A):\n",
    "    def who_am_i(self):\n",
    "        return \"I am B\"\n",
    "\n",
    "class C(A):\n",
    "    def who_am_i(self):\n",
    "        return \"I am C\"\n",
    "\n",
    "class D(B, C):\n",
    "    pass\n",
    "\n",
    "d = D()\n",
    "print(d.who_am_i()) \n",
    "print(D.mro()) "
   ]
  },
  {
   "cell_type": "markdown",
   "id": "198faae2-a73d-49a8-9ad8-50b0bb259dbd",
   "metadata": {},
   "source": [
    "In this example:\n",
    "- Class D inherits from both B and C.\n",
    "- The method who_am_i() is defined in both B and C, but Python will use the method from B because B comes before C in the MRO.\n",
    "- The MRO for class D is [D, B, C, A, object]."
   ]
  },
  {
   "cell_type": "markdown",
   "id": "901d9d4e-89d0-44f3-a9ef-db3c39688cff",
   "metadata": {},
   "source": [
    "#### How MRO Works:\n",
    "- For single inheritance, the MRO is simple: it follows the class hierarchy from the current class to its parent classes, and ultimately to the built-in object class.\n",
    "- For multiple inheritance, Python uses the C3 linearization algorithm to determine the order in which classes are considered. It ensures:\n",
    " ##### 1. Child class first: \n",
    " The class itself is checked first.\n",
    " ##### 2. Depth-first, left-to-right: \n",
    " Python checks base classes in a depth-first, left-to-right order, meaning it searches the base classes in the order they are inherited.\n",
    " ##### 3. No class is repeated:\n",
    " Each class appears in the MRO only once, even if it appears multiple times in the inheritance hierarchy.\n",
    "\n",
    "#### Summary:\n",
    "- **MRO** determines the order in which base classes are searched for a method or attribute.\n",
    "- **C3 linearization** is the algorithm Python uses to ensure a consistent and unambiguous search order.\n",
    "- You can retrieve the MRO using the __mro__ attribute or the mro() method."
   ]
  },
  {
   "cell_type": "markdown",
   "id": "b043bf08-0262-43b2-b241-0e5ebc4a6622",
   "metadata": {},
   "source": [
    "### Que 8. Create an abstract base class `Shape` with an abstract method `area()`. Then create two subclasses`Circle` and `Rectangle` that implement the `area()` method."
   ]
  },
  {
   "cell_type": "markdown",
   "id": "ca8d07ae-297f-4f9e-bdb5-6de6a4be75a6",
   "metadata": {},
   "source": [
    "Ans 8: A Python implementation of an abstract base class Shape with an abstract method area(), and two subclasses Circle and Rectangle that implement the area() method:"
   ]
  },
  {
   "cell_type": "code",
   "execution_count": 226,
   "id": "fc5aef33-ece5-44f2-95d3-2307a1dbd0de",
   "metadata": {},
   "outputs": [],
   "source": [
    "from abc import ABC, abstractmethod\n",
    "import math"
   ]
  },
  {
   "cell_type": "code",
   "execution_count": 228,
   "id": "804bb0b5-9a3e-4ac2-8208-e8260913c483",
   "metadata": {},
   "outputs": [],
   "source": [
    "# Abstract base class\n",
    "class Shape(ABC):\n",
    "    \n",
    "    @abstractmethod\n",
    "    def area(self):\n",
    "        pass\n",
    "\n",
    "# Subclass for Circle\n",
    "class Circle(Shape):\n",
    "    \n",
    "    def __init__(self, radius):\n",
    "        self.radius = radius\n",
    "    \n",
    "    def area(self):\n",
    "        return math.pi * self.radius ** 2\n",
    "\n",
    "# Subclass for Rectangle\n",
    "class Rectangle(Shape):\n",
    "    def __init__(self, width, height):\n",
    "        self.width = width\n",
    "        self.height = height\n",
    "    \n",
    "    def area(self):\n",
    "        return self.width * self.height"
   ]
  },
  {
   "cell_type": "markdown",
   "id": "9b00bcc8-7e89-4dbd-98b7-66998f8e7f8f",
   "metadata": {},
   "source": [
    " Example usage:"
   ]
  },
  {
   "cell_type": "code",
   "execution_count": 231,
   "id": "91b54530-a3fe-4261-ba65-b7bac7a3f6e7",
   "metadata": {},
   "outputs": [
    {
     "name": "stdout",
     "output_type": "stream",
     "text": [
      "Circle area: 78.53981633974483\n",
      "Rectangle area: 24\n"
     ]
    }
   ],
   "source": [
    "circle = Circle(5)\n",
    "rectangle = Rectangle(4, 6)\n",
    "\n",
    "print(\"Circle area:\", circle.area())        \n",
    "print(\"Rectangle area:\", rectangle.area())"
   ]
  },
  {
   "cell_type": "markdown",
   "id": "a64cba6d-8fc9-4136-9f0e-87ccd9ecec98",
   "metadata": {},
   "source": [
    "#### Explanation:\n",
    "##### 1. Shape:\n",
    "This is the abstract base class that contains the abstract method area(). It serves as a template for its subclasses.\n",
    "##### 2. Circle: \n",
    "This subclass implements the area() method to compute the area of a circle using the formula π * r^2.\n",
    "##### 3. Rectangle: \n",
    "This subclass implements the area() method to compute the area of a rectangle using the formula width * height.\n",
    "\n",
    "Each subclass must implement the area() method; otherwise, it will raise an error if instantiated.\n",
    "\n"
   ]
  },
  {
   "cell_type": "markdown",
   "id": "88b908f3-5c9a-46f3-bed0-42e1447161cc",
   "metadata": {},
   "source": [
    "Que 9: . Demonstrate polymorphism by creating a function that can work with different shape objects to calculate\n",
    "and print their areas."
   ]
  },
  {
   "cell_type": "markdown",
   "id": "d62e89b7-ef79-43c0-929e-4067b9c2ab88",
   "metadata": {},
   "source": [
    "Ans 9: Certainly! Polymorphism in object-oriented programming allows you to write code that can work with objects of different types, as long as they share a common interface or base class. Let's demonstrate this with a simple example using Python.\n",
    "\n",
    "We'll define a base class Shape and several derived classes (Circle, Rectangle, and Triangle) that inherit from Shape. Each derived class will have its own implementation of the area method. Then, we'll create a function that calculates and prints the area of any shape object passed to it.\n",
    "\n",
    "Here's a complete example:"
   ]
  },
  {
   "cell_type": "code",
   "execution_count": null,
   "id": "3d37fa83-2770-4a44-9180-1e4b307b41ee",
   "metadata": {},
   "outputs": [],
   "source": [
    "import math\n",
    "\n",
    "# Base class\n",
    "class Shape:\n",
    "    def area(self):\n",
    "        raise NotImplementedError(\"Subclasses must implement this method.\")\n",
    "\n",
    "# Derived class for Circle\n",
    "class Circle(Shape):\n",
    "    def __init__(self, radius):\n",
    "        self.radius = radius\n",
    "\n",
    "    def area(self):\n",
    "        return math.pi * (self.radius ** 2)\n",
    "\n",
    "# Derived class for Rectangle\n",
    "class Rectangle(Shape):\n",
    "    def __init__(self, width, height):\n",
    "        self.width = width\n",
    "        self.height = height\n",
    "\n",
    "    def area(self):\n",
    "        return self.width * self.height\n",
    "\n",
    "# Derived class for Triangle\n",
    "class Triangle(Shape):\n",
    "    def __init__(self, base, height):\n",
    "        self.base = base\n",
    "        self.height = height\n",
    "\n",
    "    def area(self):\n",
    "        return 0.5 * self.base * self.height\n",
    "\n",
    "# Function to print the area of a shape\n",
    "def print_area(shape):\n",
    "    if not isinstance(shape, Shape):\n",
    "        raise TypeError(\"Expected an object of type Shape\")\n",
    "    print(f\"The area of the shape is: {shape.area()}\")\n",
    "\n",
    "# Example usage\n",
    "circle = Circle(5)\n",
    "rectangle = Rectangle(4, 6)\n",
    "triangle = Triangle(3, 7)\n",
    "\n",
    "print_area(circle)       \n",
    "print_area(rectangle)   # The area of the shape is: 24\n",
    "print_area(triangle)    # The area of the shape is: 10.5\n"
   ]
  },
  {
   "cell_type": "code",
   "execution_count": null,
   "id": "5e8d5eb4-9dd5-45d1-a5bb-b7c1a7fd7872",
   "metadata": {},
   "outputs": [],
   "source": []
  },
  {
   "cell_type": "code",
   "execution_count": null,
   "id": "23aaea90-3cb4-4ae7-a2d7-8de1d504f432",
   "metadata": {},
   "outputs": [],
   "source": []
  },
  {
   "cell_type": "code",
   "execution_count": null,
   "id": "d4f1e132-4a9f-49d7-96fd-87975a1d07b0",
   "metadata": {},
   "outputs": [],
   "source": []
  },
  {
   "cell_type": "code",
   "execution_count": null,
   "id": "67b37d58-0883-4321-a448-01ed6851c093",
   "metadata": {},
   "outputs": [],
   "source": []
  },
  {
   "cell_type": "code",
   "execution_count": null,
   "id": "b7dbe15e-e2e1-4237-aa46-da8ea9f8bd8e",
   "metadata": {},
   "outputs": [],
   "source": []
  },
  {
   "cell_type": "code",
   "execution_count": null,
   "id": "faac6f84-ff61-4286-89ab-18c4cc3f0ea3",
   "metadata": {},
   "outputs": [],
   "source": []
  },
  {
   "cell_type": "code",
   "execution_count": null,
   "id": "d819c2a3-4600-4810-83dd-911bb72901a9",
   "metadata": {},
   "outputs": [],
   "source": []
  },
  {
   "cell_type": "code",
   "execution_count": null,
   "id": "bf2e4929-e172-43bc-9c5b-963ea26a9942",
   "metadata": {},
   "outputs": [],
   "source": []
  },
  {
   "cell_type": "code",
   "execution_count": null,
   "id": "5d1f5c2e-f7ea-44cc-a579-8c7c1a45e842",
   "metadata": {},
   "outputs": [],
   "source": []
  },
  {
   "cell_type": "markdown",
   "id": "d99dc45d-507e-41cb-91ab-f4dd7b42ae3a",
   "metadata": {},
   "source": [
    "Que 10: Implement encapsulation in a `BankAccount` class with private attributes for `balance` and\r\n",
    "`account_number`. Include methods for deposit, withdrawal, and balance inquiry."
   ]
  },
  {
   "cell_type": "markdown",
   "id": "9b619c47-788e-4fdb-9293-13ed10a0d702",
   "metadata": {},
   "source": [
    "Ans 10:Implementing encapsulation in a BankAccount class with private attributes and methods for deposit, withdrawal, and balance inquiry:"
   ]
  },
  {
   "cell_type": "code",
   "execution_count": 11,
   "id": "43292586-39d4-4f91-96ed-d194a924ae63",
   "metadata": {},
   "outputs": [
    {
     "name": "stdout",
     "output_type": "stream",
     "text": [
      "Deposited 200. New balance: 700\n",
      "Withdrew 100. New balance: 600\n",
      "600\n",
      "987654321\n"
     ]
    }
   ],
   "source": [
    "class BankAccount:\n",
    "    def __init__(self, account_number, initial_balance=0):\n",
    "        # Private attributes\n",
    "        self.__account_number = account_number\n",
    "        self.__balance = initial_balance\n",
    "\n",
    "    # Method to deposit money\n",
    "    def deposit(self, amount):\n",
    "        if amount > 0:\n",
    "            self.__balance += amount\n",
    "            print(f\"Deposited {amount}. New balance: {self.__balance}\")\n",
    "        else:\n",
    "            print(\"Deposit amount must be positive.\")\n",
    "\n",
    "    # Method to withdraw money\n",
    "    def withdraw(self, amount):\n",
    "        if 0 < amount <= self.__balance:\n",
    "            self.__balance -= amount\n",
    "            print(f\"Withdrew {amount}. New balance: {self.__balance}\")\n",
    "        else:\n",
    "            print(\"Invalid withdrawal amount.\")\n",
    "\n",
    "    # Method to inquire the balance\n",
    "    def get_balance(self):\n",
    "        return self.__balance\n",
    "\n",
    "    # Method to get the account number\n",
    "    def get_account_number(self):\n",
    "        return self.__account_number\n",
    "\n",
    "# Example usage\n",
    "account = BankAccount(\"987654321\", 500)\n",
    "account.deposit(200)\n",
    "account.withdraw(100)           \n",
    "print(account.get_balance())    \n",
    "print(account.get_account_number()) "
   ]
  },
  {
   "cell_type": "markdown",
   "id": "f27369db-3c6f-4abe-8f49-554eacb11512",
   "metadata": {},
   "source": [
    "Key Concepts:\n",
    "\n",
    "\n",
    "-Private Attributes: The __account_number and __balance are private attributes, which means they cannot be accessed directly from outside the class. They can only be accessed and modified through the class methods.\n",
    "\n",
    "\n",
    "-Encapsulation: The private attributes ensure that the internal state of the object is hidden from the outside, and any interaction with the data is controlled through methods.\n",
    "\n",
    "\n",
    "-Public Methods: The methods deposit, withdraw, get_balance, and get_account_number are public methods, allowing controlled access and manipulation of the private data.\n",
    "\n",
    "\n",
    "-This structure ensures that the integrity of the BankAccount class is maintained, with all operations on the account balance being performed through the appropriate methods."
   ]
  },
  {
   "cell_type": "markdown",
   "id": "b49e3d7f-a918-449a-92fd-62668f2aae66",
   "metadata": {},
   "source": [
    "Que 11: Write a class that overrides the `__str__` and `__add__` magic methods. What will these methods allow\n",
    "you to do?"
   ]
  },
  {
   "cell_type": "markdown",
   "id": "265195c8-8a42-4b79-86d4-dd7c57a7c16b",
   "metadata": {},
   "source": [
    "Ans 11: Certainly! When you override the __str__ and __add__ magic methods in a Python, you enable custom behaviors for converting objects to strings and for adding objects together with the + operator.\n",
    "\n",
    "Here’s an example of a class that overrides both of these methods:"
   ]
  },
  {
   "cell_type": "code",
   "execution_count": 18,
   "id": "379b5796-61ef-4ebc-a303-e3472578d57a",
   "metadata": {},
   "outputs": [
    {
     "name": "stdout",
     "output_type": "stream",
     "text": [
      "3 + 4i\n",
      "1 + 2i\n",
      "4 + 6i\n"
     ]
    }
   ],
   "source": [
    "class ComplexNumber:\n",
    "    def __init__(self, real, imaginary):\n",
    "        self.real = real\n",
    "        self.imaginary = imaginary\n",
    "\n",
    "    def __str__(self):\n",
    "        return f\"{self.real} + {self.imaginary}i\"\n",
    "\n",
    "    def __add__(self, other):\n",
    "        if isinstance(other, ComplexNumber):\n",
    "            new_real = self.real + other.real\n",
    "            new_imaginary = self.imaginary + other.imaginary\n",
    "            return ComplexNumber(new_real, new_imaginary)\n",
    "        return NotImplemented\n",
    "\n",
    "# Example usage\n",
    "c1 = ComplexNumber(3, 4)\n",
    "c2 = ComplexNumber(1, 2)\n",
    "\n",
    "print(c1)  # Calls __str__: Output -> \"3 + 4i\"\n",
    "print(c2)  # Calls __str__: Output -> \"1 + 2i\"\n",
    "\n",
    "c3 = c1 + c2  # Calls __add__\n",
    "print(c3) "
   ]
  },
  {
   "cell_type": "markdown",
   "id": "63c46672-bc7b-45eb-87e5-c38e2d7efeb1",
   "metadata": {},
   "source": [
    "Explanation:\n",
    "\n",
    "\n",
    "__str__ Method:\n",
    "\n",
    "\n",
    "The __str__ method is used to define the string representation of an object.\n",
    "\n",
    "    \n",
    "When you use print() on an object or call str() on it, Python uses the __str__ method to determine what to display.\n",
    "\n",
    "\n",
    "In this example, __str__ is overridden to provide a formatted string representation of a complex number, e.g., \"3 + 4i\".\n",
    "\n",
    "\n",
    "__add__ Method:\n",
    "\n",
    "The __add__ method defines how two objects of the class should be added together using the + operator.\n",
    "\n",
    "\n",
    "In the example, __add__ is overridden to add two ComplexNumber objects by separately adding their real and imaginary parts.\n",
    "\n",
    "    \n",
    "When you write c1 + c2, Python automatically calls the __add__ method, returning a new ComplexNumber object that represents the sum of the two.\n",
    "\n",
    "    \n",
    "What These Methods Allow You to Do:\n",
    "\n",
    "\n",
    "Custom String Representation: By overriding __str__, you can control how your objects are represented as strings, making it easier to display and understand the object's data when printed or logged.\n",
    "\n",
    "\n",
    "\n",
    "Operator Overloading: By overriding __add__, you can define how the + operator works for your objects, enabling intuitive mathematical operations that align with the nature of the objects (e.g., adding complex numbers, points, etc.).\n",
    "\n",
    "\n",
    "\n",
    "These techniques allow your class to behave more naturally and integrate smoothly with Python’s built-in functions and operators."
   ]
  },
  {
   "cell_type": "markdown",
   "id": "a4e9388a-77d9-47eb-a9c7-5d555f3782d4",
   "metadata": {},
   "source": [
    "Key Concepts:\n",
    "\n",
    "\n",
    "Custom String Representation: The __str__ method allows objects to be easily converted to a human-readable string, which is useful for debugging or logging.\n",
    "\n",
    "\n",
    "Operator Overloading: The __add__ method (and similar magic methods like __sub__, __mul__, etc.) allows you to define custom behavior for operators, making objects behave in intuitive ways when combined with standard operators."
   ]
  },
  {
   "cell_type": "markdown",
   "id": "3ed5083a-c517-4de5-a408-a398cd4b0ef2",
   "metadata": {},
   "source": [
    "Que 12: Create a decorator that measures and prints the execution time of a function."
   ]
  },
  {
   "cell_type": "markdown",
   "id": "9ced0659-2bcc-42ac-b995-97398a9a7bab",
   "metadata": {},
   "source": [
    "Ans 12: Creating a decorator in Python that measures and prints the execution time of a function using the time module. Here's how you can do it:"
   ]
  },
  {
   "cell_type": "code",
   "execution_count": 26,
   "id": "3eaa5998-f65b-493e-a361-7e907faaf37d",
   "metadata": {},
   "outputs": [
    {
     "name": "stdout",
     "output_type": "stream",
     "text": [
      "Execution time of example_function: 0.126113 seconds\n",
      "Result: 499999500000\n"
     ]
    }
   ],
   "source": [
    "import time\n",
    "\n",
    "def time_it(func):\n",
    "    def wrapper(*args, **kwargs):\n",
    "        start_time = time.time()  # Record the start time\n",
    "        result = func(*args, **kwargs)  # Call the original function\n",
    "        end_time = time.time()  # Record the end time\n",
    "        execution_time = end_time - start_time  # Calculate the execution time\n",
    "        print(f\"Execution time of {func.__name__}: {execution_time:.6f} seconds\")\n",
    "        return result  # Return the result of the original function\n",
    "    return wrapper\n",
    "\n",
    "# Example usage\n",
    "@time_it\n",
    "def example_function(n):\n",
    "    total = 0\n",
    "    for i in range(n):\n",
    "        total += i\n",
    "    return total\n",
    "\n",
    "# Call the function\n",
    "result = example_function(1000000)\n",
    "print(\"Result:\", result)"
   ]
  },
  {
   "cell_type": "markdown",
   "id": "54e91c4e-d6c4-48bd-b378-0029891b16da",
   "metadata": {},
   "source": [
    "Explanation:\n",
    "\n",
    "\n",
    "Decorator time_it:\n",
    "\n",
    "1.The decorator time_it takes a function func as an argument and returns a wrapper function.\n",
    "\n",
    "    \n",
    "2.Inside wrapper, the start time is recorded using time.time().\n",
    "\n",
    "    \n",
    "3.The original function is then executed with any arguments passed to it.\n",
    "\n",
    "    \n",
    "4.After the function call, the end time is recorded.\n",
    "\n",
    "\n",
    "5.The execution time is calculated by subtracting the start time from the end time.\n",
    "\n",
    "    \n",
    "6.The execution time is printed with the function's name.\n",
    "\n",
    "\n",
    "7.Finally, the result of the original function is returned.\n",
    "\n",
    "\n",
    "Applying the Decorator:\n",
    "\n",
    "You apply the time_it decorator to a function using the @time_it syntax. This causes the decorator to wrap the original function with the wrapper function, adding the timing logic.\n",
    "\n",
    "    \n",
    "Example Function:\n",
    "\n",
    "The example_function computes the sum of numbers from 0 to n-1.\n",
    "\n",
    "\n",
    "When you call example_function(1000000), the execution time is measured and printed."
   ]
  },
  {
   "cell_type": "markdown",
   "id": "f98aa4a6-2717-427c-9c01-e6d22d0bdf98",
   "metadata": {},
   "source": [
    "Output:\n",
    "\n",
    "When you run the code, you'll see the execution time printed, along with the result of the function:"
   ]
  },
  {
   "cell_type": "code",
   "execution_count": 35,
   "id": "cc5743bc-c853-4818-b6fa-9e2a47b09e9c",
   "metadata": {},
   "outputs": [],
   "source": [
    "#Execution time of example_function: 0.030000 seconds\n",
    "#Result: 499999500000"
   ]
  },
  {
   "cell_type": "markdown",
   "id": "6e35978c-adb4-49e8-af33-bbe3f81e6b16",
   "metadata": {},
   "source": [
    "This decorator can be reused to measure the execution time of any function by simply applying @time_it to it."
   ]
  },
  {
   "cell_type": "markdown",
   "id": "8651783c-5801-4d98-9d04-9c78e8d7acb2",
   "metadata": {},
   "source": [
    "Que 13:  Explain the concept of the Diamond Problem in multiple inheritance. How does Python resolve it?"
   ]
  },
  {
   "cell_type": "markdown",
   "id": "051ae8ce-87ae-4dc3-af84-7d0c744dfab2",
   "metadata": {},
   "source": [
    "Ans 13: The Diamond Problem is a common issue in object-oriented programming that occurs in languages that support multiple inheritance. It arises when a class inherits from two classes that both inherit from a single common base class, forming a diamond-shaped inheritance structure. The problem is related to ambiguity about which method or attribute should be inherited from the base class."
   ]
  },
  {
   "cell_type": "markdown",
   "id": "7fe821ca-81bc-45f3-8ed9-98aca6310b53",
   "metadata": {},
   "source": [
    "The Diamond Problem\n",
    "Consider the following class hierarchy:"
   ]
  },
  {
   "cell_type": "markdown",
   "id": "79c637fe-1c7c-4d8d-b971-e694dcfb3498",
   "metadata": {},
   "source": [
    "      A\n",
    "     / \\\n",
    "    B   C\n",
    "     \\ /\n",
    "      D"
   ]
  },
  {
   "cell_type": "markdown",
   "id": "27575bbf-adb5-4646-8dfe-5f22421698f0",
   "metadata": {},
   "source": [
    "Class A is the base class.\n",
    "\n",
    "Classes B and C both inherit from class A.\n",
    "\n",
    "Class D inherits from both B and C.\n",
    "\n",
    "Here’s the diamond structure:\n"
   ]
  },
  {
   "cell_type": "code",
   "execution_count": 48,
   "id": "af65cc71-1192-4834-9e2c-00524162ff68",
   "metadata": {},
   "outputs": [],
   "source": [
    "class A:\n",
    "    def show(self):\n",
    "        print(\"A\")\n",
    "\n",
    "class B(A):\n",
    "    def show(self):\n",
    "        print(\"B\")\n",
    "\n",
    "class C(A):\n",
    "    def show(self):\n",
    "        print(\"C\")\n",
    "\n",
    "class D(B, C):\n",
    "    pass"
   ]
  },
  {
   "cell_type": "markdown",
   "id": "d23b1b6e-2c7e-4b57-b938-72601a93622b",
   "metadata": {},
   "source": [
    "Now, if you create an instance of D and call the show() method:"
   ]
  },
  {
   "cell_type": "code",
   "execution_count": 51,
   "id": "781d8283-d164-48b8-8d9a-99d3822a832f",
   "metadata": {},
   "outputs": [
    {
     "name": "stdout",
     "output_type": "stream",
     "text": [
      "B\n"
     ]
    }
   ],
   "source": [
    "d = D()\n",
    "d.show()"
   ]
  },
  {
   "cell_type": "markdown",
   "id": "90208833-8340-41a4-ba0f-131c03d2f102",
   "metadata": {},
   "source": [
    "The question arises: which show() method should be called—B's, C's, or A's? This ambiguity is the essence of the Diamond Problem."
   ]
  },
  {
   "cell_type": "markdown",
   "id": "9ce2ac91-3f00-4033-9b68-a42c10c20b80",
   "metadata": {},
   "source": [
    "How Python Resolves the Diamond Problem-\n",
    "\n",
    "Python resolves the Diamond Problem using a method resolution order (MRO) and the C3 linearization algorithm. The MRO is the order in which base classes are searched when executing a method. This order ensures that a method is called from the correct class and avoids ambiguity.\n",
    "\n",
    "In the example above, Python will search for methods in the following order (MRO):\n",
    "\n",
    "D\n",
    "\n",
    "B\n",
    "\n",
    "C\n",
    "\n",
    "A\n",
    "\n",
    "This MRO can be observed using the __mro__ attribute or the mro() method:"
   ]
  },
  {
   "cell_type": "code",
   "execution_count": 55,
   "id": "61fb1a9c-3d2f-41b1-be4e-65bc10ea50ac",
   "metadata": {},
   "outputs": [
    {
     "name": "stdout",
     "output_type": "stream",
     "text": [
      "[<class '__main__.D'>, <class '__main__.B'>, <class '__main__.C'>, <class '__main__.A'>, <class 'object'>]\n"
     ]
    }
   ],
   "source": [
    "print(D.mro())"
   ]
  },
  {
   "cell_type": "markdown",
   "id": "2c071229-bfaa-4f79-bd6e-497d24beb38c",
   "metadata": {},
   "source": [
    "So, in the example:\n",
    "\n",
    "When d.show() is called, Python looks first in D for a show method.\n",
    "\n",
    "Since D doesn’t have a show method, it proceeds to B and finds the show method there.\n",
    "\n",
    "The show method from B is executed, so the output is B."
   ]
  },
  {
   "cell_type": "markdown",
   "id": "1a4bf0bd-4cf5-40de-9382-a55b59bb8ed2",
   "metadata": {},
   "source": [
    "Why This Works\n",
    "\n",
    "Python's MRO ensures that:\n",
    "\n",
    "Each base class is only called once, even if it's inherited through multiple paths (this avoids duplicate calls to A).\n",
    "\n",
    "The order is consistent and predictable, preventing ambiguity.\n",
    "    \n",
    "If class D had its own show method, it would be used, but if not, Python follows the MRO to find the next method.\n",
    "\n",
    "Summary\n",
    "\n",
    "The Diamond Problem occurs in multiple inheritance scenarios when ambiguity arises about which method or attribute to inherit from a common base class.\n",
    "\n",
    "Python resolves the Diamond Problem using the MRO, which follows a linearization order based on the C3 algorithm.\n",
    "    \n",
    "The MRO ensures a consistent and unambiguous order of method resolution, preventing issues like duplicate method calls or ambiguity.\n",
    "\n",
    "\n",
    "\n",
    "\n",
    "\n",
    "\n"
   ]
  },
  {
   "cell_type": "markdown",
   "id": "2ac42b06-8063-4059-a0a0-f656ca778c10",
   "metadata": {},
   "source": [
    "Que 14: Write a class method that keeps track of the number of instances created from a class. "
   ]
  },
  {
   "cell_type": "markdown",
   "id": "2b73ac10-beba-4f19-802d-339e7533601c",
   "metadata": {},
   "source": [
    "Ans 14: You can keep track of the number of instances created from a class by using a class-level attribute that is incremented each time a new instance is created. Here's how you can implement this:"
   ]
  },
  {
   "cell_type": "code",
   "execution_count": 65,
   "id": "e5b96f22-e8e5-44fc-9a5b-a5e0ee9881c7",
   "metadata": {},
   "outputs": [
    {
     "name": "stdout",
     "output_type": "stream",
     "text": [
      "3\n"
     ]
    }
   ],
   "source": [
    "class InstanceCounter:\n",
    "    instance_count = 0  # Class-level attribute to keep track of instances\n",
    "\n",
    "    def __init__(self):\n",
    "        InstanceCounter.instance_count += 1  # Increment count each time an instance is created\n",
    "\n",
    "    @classmethod\n",
    "    def get_instance_count(cls):\n",
    "        return cls.instance_count  # Return the current count of instances\n",
    "\n",
    "# Example usage\n",
    "a = InstanceCounter()\n",
    "b = InstanceCounter()\n",
    "c = InstanceCounter()\n",
    "\n",
    "print(InstanceCounter.get_instance_count())\n"
   ]
  },
  {
   "cell_type": "markdown",
   "id": "2f182d34-511d-4304-b7e6-87ea73f402e7",
   "metadata": {},
   "source": [
    "Explanation:\n",
    "\n",
    "instance_count:\n",
    "\n",
    "This is a class-level attribute (also known as a class variable). It is shared by all instances of the class and is used to keep track of how many instances of the class have been created.\n",
    "    \n",
    "It is initialized to 0.\n",
    "    \n",
    "__init__ Method:\n",
    "\n",
    "Each time a new instance is created, the __init__ method is called. Inside this method, InstanceCounter.instance_count is incremented by 1.\n",
    "    \n",
    "This ensures that each time a new instance is created, the count is updated.\n",
    "    \n",
    "@classmethod and get_instance_count:\n",
    "\n",
    "get_instance_count is a class method that returns the current value of instance_count.\n",
    "\n",
    "The @classmethod decorator allows the method to be called on the class itself (cls) rather than on an instance of the class.\n",
    "    \n",
    "This method can be called on the class to check how many instances have been created so far."
   ]
  },
  {
   "cell_type": "markdown",
   "id": "109021b0-44f4-455f-ac87-d50a10260503",
   "metadata": {},
   "source": [
    "Output:\n",
    "\n",
    "If you create three instances of the InstanceCounter class, as shown in the example:\n",
    "\n",
    "python-\n",
    "\n",
    "Copy code\n",
    "    \n",
    "a = InstanceCounter()\n",
    "    \n",
    "b = InstanceCounter()\n",
    " \n",
    "c = InstanceCounter()\n",
    " \n",
    "Then calling InstanceCounter.get_instance_count() will return 3, indicating that three instances have been created.\n",
    "\n",
    "This pattern is useful when you need to monitor or limit the number of instances that can be created from a class."
   ]
  },
  {
   "cell_type": "markdown",
   "id": "e7e09a87-8a3c-4dcb-9c5d-8d5e3ad008e6",
   "metadata": {},
   "source": [
    "Que 15:  Implement a static method in a class that checks if a given year is a leap year."
   ]
  },
  {
   "cell_type": "markdown",
   "id": "f9ecfd43-eec3-4b59-b484-46e31aa151f4",
   "metadata": {},
   "source": [
    "Ans 15: You can implement a static method to check if a given year is a leap year as follows:"
   ]
  },
  {
   "cell_type": "code",
   "execution_count": 71,
   "id": "25392961-0af5-4e0d-9ae1-10acaf25c3af",
   "metadata": {},
   "outputs": [
    {
     "name": "stdout",
     "output_type": "stream",
     "text": [
      "True\n",
      "False\n",
      "True\n",
      "False\n"
     ]
    }
   ],
   "source": [
    "class DateUtils:\n",
    "    @staticmethod\n",
    "    def is_leap_year(year):\n",
    "        # A year is a leap year if it is divisible by 4\n",
    "        # but not divisible by 100, except if it is divisible by 400\n",
    "        if (year % 4 == 0 and year % 100 != 0) or (year % 400 == 0):\n",
    "            return True\n",
    "        else:\n",
    "            return False\n",
    "\n",
    "# Example usage\n",
    "print(DateUtils.is_leap_year(2020))  # Output: True (2020 is a leap year)\n",
    "print(DateUtils.is_leap_year(1900))  # Output: False (1900 is not a leap year)\n",
    "print(DateUtils.is_leap_year(2000))  # Output: True (2000 is a leap year)\n",
    "print(DateUtils.is_leap_year(2023))  # Output: False (2023 is not a leap year)"
   ]
  },
  {
   "cell_type": "markdown",
   "id": "24172c93-7547-47e1-b228-ea2add1ad1c5",
   "metadata": {},
   "source": [
    "Explanation:\n",
    "\n",
    "@staticmethod Decorator:\n",
    "\n",
    "The @staticmethod decorator indicates that the method does not depend on the instance of the class (i.e., it doesn’t access or modify the instance or class-level attributes). It operates solely based on the input arguments.\n",
    "\n",
    "This makes is_leap_year a method that can be called directly on the class without creating an instance.\n",
    "\n",
    "is_leap_year Method:\n",
    "\n",
    "The logic inside the is_leap_year method follows the rules for determining leap years:\n",
    "                                                          \n",
    "A year is a leap year if it is divisible by 4.\n",
    "    \n",
    "However, if the year is divisible by 100, it is not a leap year unless it is also divisible by 400.\n",
    "    \n",
    "The method returns True if the year is a leap year and False otherwise.\n",
    "    \n",
    "Usage:\n",
    "    \n",
    "You can call this static method directly on the class without needing to create an instance:"
   ]
  },
  {
   "cell_type": "code",
   "execution_count": 76,
   "id": "c6457c07-c2ed-436c-9bbc-662ebbdb2a56",
   "metadata": {},
   "outputs": [
    {
     "name": "stdout",
     "output_type": "stream",
     "text": [
      "True\n"
     ]
    }
   ],
   "source": [
    "print(DateUtils.is_leap_year(2020))"
   ]
  },
  {
   "cell_type": "markdown",
   "id": "cb9508ca-7afb-45c8-a93a-348600189da7",
   "metadata": {},
   "source": [
    "This method correctly identifies leap years according to the rules of the Gregorian calendar."
   ]
  }
 ],
 "metadata": {
  "kernelspec": {
   "display_name": "Python 3 (ipykernel)",
   "language": "python",
   "name": "python3"
  },
  "language_info": {
   "codemirror_mode": {
    "name": "ipython",
    "version": 3
   },
   "file_extension": ".py",
   "mimetype": "text/x-python",
   "name": "python",
   "nbconvert_exporter": "python",
   "pygments_lexer": "ipython3",
   "version": "3.12.4"
  }
 },
 "nbformat": 4,
 "nbformat_minor": 5
}
